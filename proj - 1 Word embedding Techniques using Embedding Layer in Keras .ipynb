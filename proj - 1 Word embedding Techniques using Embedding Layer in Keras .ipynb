{
 "cells": [
  {
   "cell_type": "markdown",
   "id": "d2e0fedd",
   "metadata": {},
   "source": [
    "# Word embedding Techniques using Embedding Layer in Keras "
   ]
  },
  {
   "cell_type": "code",
   "execution_count": 1,
   "id": "3349c2fa",
   "metadata": {},
   "outputs": [],
   "source": [
    "#### Libraries used Tenserflow > 2.0 in Keras"
   ]
  },
  {
   "cell_type": "code",
   "execution_count": 2,
   "id": "e2a412ea",
   "metadata": {},
   "outputs": [],
   "source": [
    "import warnings\n",
    "warnings.filterwarnings('ignore')\n",
    "# ! pip install tenserflow-gpu"
   ]
  },
  {
   "cell_type": "code",
   "execution_count": 8,
   "id": "5b25f6d8",
   "metadata": {},
   "outputs": [
    {
     "name": "stdout",
     "output_type": "stream",
     "text": [
      "Defaulting to user installation because normal site-packages is not writeable\n",
      "Collecting tensorflow-gpu\n",
      "  Using cached tensorflow-gpu-2.12.0.tar.gz (2.6 kB)\n",
      "  Preparing metadata (setup.py): started\n",
      "  Preparing metadata (setup.py): finished with status 'error'\n"
     ]
    },
    {
     "name": "stderr",
     "output_type": "stream",
     "text": [
      "  error: subprocess-exited-with-error\n",
      "  \n",
      "  python setup.py egg_info did not run successfully.\n",
      "  exit code: 1\n",
      "  \n",
      "  [44 lines of output]\n",
      "  Traceback (most recent call last):\n",
      "    File \"C:\\ProgramData\\anaconda3\\Lib\\site-packages\\setuptools\\_vendor\\packaging\\requirements.py\", line 35, in __init__\n",
      "      parsed = _parse_requirement(requirement_string)\n",
      "               ^^^^^^^^^^^^^^^^^^^^^^^^^^^^^^^^^^^^^^\n",
      "    File \"C:\\ProgramData\\anaconda3\\Lib\\site-packages\\setuptools\\_vendor\\packaging\\_parser.py\", line 64, in parse_requirement\n",
      "      return _parse_requirement(Tokenizer(source, rules=DEFAULT_RULES))\n",
      "             ^^^^^^^^^^^^^^^^^^^^^^^^^^^^^^^^^^^^^^^^^^^^^^^^^^^^^^^^^^\n",
      "    File \"C:\\ProgramData\\anaconda3\\Lib\\site-packages\\setuptools\\_vendor\\packaging\\_parser.py\", line 82, in _parse_requirement\n",
      "      url, specifier, marker = _parse_requirement_details(tokenizer)\n",
      "                               ^^^^^^^^^^^^^^^^^^^^^^^^^^^^^^^^^^^^^\n",
      "    File \"C:\\ProgramData\\anaconda3\\Lib\\site-packages\\setuptools\\_vendor\\packaging\\_parser.py\", line 126, in _parse_requirement_details\n",
      "      marker = _parse_requirement_marker(\n",
      "               ^^^^^^^^^^^^^^^^^^^^^^^^^^\n",
      "    File \"C:\\ProgramData\\anaconda3\\Lib\\site-packages\\setuptools\\_vendor\\packaging\\_parser.py\", line 147, in _parse_requirement_marker\n",
      "      tokenizer.raise_syntax_error(\n",
      "    File \"C:\\ProgramData\\anaconda3\\Lib\\site-packages\\setuptools\\_vendor\\packaging\\_tokenizer.py\", line 165, in raise_syntax_error\n",
      "      raise ParserSyntaxError(\n",
      "  setuptools.extern.packaging._tokenizer.ParserSyntaxError: Expected end or semicolon (after name and no valid version specifier)\n",
      "      python_version>\"3.7\"\n",
      "                    ^\n",
      "  \n",
      "  The above exception was the direct cause of the following exception:\n",
      "  \n",
      "  Traceback (most recent call last):\n",
      "    File \"<string>\", line 2, in <module>\n",
      "    File \"<pip-setuptools-caller>\", line 34, in <module>\n",
      "    File \"C:\\Users\\admin\\AppData\\Local\\Temp\\pip-install-6vzopevo\\tensorflow-gpu_fb38198dfd704f84942125dc9f287432\\setup.py\", line 40, in <module>\n",
      "      setuptools.setup()\n",
      "    File \"C:\\ProgramData\\anaconda3\\Lib\\site-packages\\setuptools\\__init__.py\", line 106, in setup\n",
      "      _install_setup_requires(attrs)\n",
      "    File \"C:\\ProgramData\\anaconda3\\Lib\\site-packages\\setuptools\\__init__.py\", line 77, in _install_setup_requires\n",
      "      dist.parse_config_files(ignore_option_errors=True)\n",
      "    File \"C:\\ProgramData\\anaconda3\\Lib\\site-packages\\setuptools\\dist.py\", line 900, in parse_config_files\n",
      "      self._finalize_requires()\n",
      "    File \"C:\\ProgramData\\anaconda3\\Lib\\site-packages\\setuptools\\dist.py\", line 597, in _finalize_requires\n",
      "      self._move_install_requirements_markers()\n",
      "    File \"C:\\ProgramData\\anaconda3\\Lib\\site-packages\\setuptools\\dist.py\", line 637, in _move_install_requirements_markers\n",
      "      inst_reqs = list(_reqs.parse(spec_inst_reqs))\n",
      "                  ^^^^^^^^^^^^^^^^^^^^^^^^^^^^^^^^^\n",
      "    File \"C:\\ProgramData\\anaconda3\\Lib\\site-packages\\setuptools\\_vendor\\packaging\\requirements.py\", line 37, in __init__\n",
      "      raise InvalidRequirement(str(e)) from e\n",
      "  setuptools.extern.packaging.requirements.InvalidRequirement: Expected end or semicolon (after name and no valid version specifier)\n",
      "      python_version>\"3.7\"\n",
      "                    ^\n",
      "  [end of output]\n",
      "  \n",
      "  note: This error originates from a subprocess, and is likely not a problem with pip.\n",
      "error: metadata-generation-failed\n",
      "\n",
      "Encountered error while generating package metadata.\n",
      "\n",
      "See above for output.\n",
      "\n",
      "note: This is an issue with the package mentioned above, not pip.\n",
      "hint: See above for details.\n"
     ]
    }
   ],
   "source": [
    "# !pip install tensorflow\n",
    "! pip install tensorflow-gpu"
   ]
  },
  {
   "cell_type": "code",
   "execution_count": 10,
   "id": "62e2971d",
   "metadata": {},
   "outputs": [
    {
     "name": "stdout",
     "output_type": "stream",
     "text": [
      "WARNING:tensorflow:From C:\\Users\\admin\\AppData\\Roaming\\Python\\Python311\\site-packages\\keras\\src\\losses.py:2976: The name tf.losses.sparse_softmax_cross_entropy is deprecated. Please use tf.compat.v1.losses.sparse_softmax_cross_entropy instead.\n",
      "\n",
      "2.15.0\n"
     ]
    }
   ],
   "source": [
    "import tensorflow as tf\n",
    "print(tf.__version__)"
   ]
  },
  {
   "cell_type": "code",
   "execution_count": 12,
   "id": "43ac612b",
   "metadata": {},
   "outputs": [],
   "source": [
    "### tensorflow > 2.0\n",
    "from tensorflow.keras.preprocessing.text import one_hot"
   ]
  },
  {
   "cell_type": "code",
   "execution_count": 13,
   "id": "1f457797",
   "metadata": {},
   "outputs": [],
   "source": [
    "#### sentences\n",
    "sent=[  'the glass of milk',\n",
    "     'the glass of juice',\n",
    "     'the cup of tea',\n",
    "    'I am a good boy',\n",
    "     'I am a good developer',\n",
    "     'understand the meaning of words',\n",
    "     'your videos are good'] "
   ]
  },
  {
   "cell_type": "code",
   "execution_count": 14,
   "id": "b4d749c5",
   "metadata": {},
   "outputs": [
    {
     "data": {
      "text/plain": [
       "['the glass of milk',\n",
       " 'the glass of juice',\n",
       " 'the cup of tea',\n",
       " 'I am a good boy',\n",
       " 'I am a good developer',\n",
       " 'understand the meaning of words',\n",
       " 'your videos are good']"
      ]
     },
     "execution_count": 14,
     "metadata": {},
     "output_type": "execute_result"
    }
   ],
   "source": [
    "sent"
   ]
  },
  {
   "cell_type": "code",
   "execution_count": 15,
   "id": "1753e4fe",
   "metadata": {},
   "outputs": [],
   "source": [
    "#### Vocubulary size\n",
    "voc_size = 500"
   ]
  },
  {
   "cell_type": "markdown",
   "id": "f48635bb",
   "metadata": {},
   "source": [
    "# One Hot Representation"
   ]
  },
  {
   "cell_type": "code",
   "execution_count": 16,
   "id": "ca07687e",
   "metadata": {},
   "outputs": [
    {
     "name": "stdout",
     "output_type": "stream",
     "text": [
      "[[9, 91, 285, 52], [9, 91, 285, 170], [9, 308, 285, 308], [429, 452, 385, 213, 432], [429, 452, 385, 213, 465], [311, 9, 318, 285, 247], [398, 390, 346, 213]]\n"
     ]
    }
   ],
   "source": [
    "onehot_rep = [one_hot(words,voc_size) for words in sent]\n",
    "print(onehot_rep)"
   ]
  },
  {
   "cell_type": "markdown",
   "id": "4a3f4696",
   "metadata": {},
   "source": [
    "# Word Embedding Representation"
   ]
  },
  {
   "cell_type": "code",
   "execution_count": 20,
   "id": "fdc4b5cc",
   "metadata": {},
   "outputs": [],
   "source": [
    "from tensorflow.keras.layers import Embedding\n",
    "from tensorflow.keras.preprocessing.sequence import pad_sequences\n",
    "from tensorflow.keras.models import Sequential"
   ]
  },
  {
   "cell_type": "code",
   "execution_count": 21,
   "id": "e9a1f954",
   "metadata": {},
   "outputs": [],
   "source": [
    "import numpy as np"
   ]
  },
  {
   "cell_type": "code",
   "execution_count": 26,
   "id": "ccc1f309",
   "metadata": {},
   "outputs": [
    {
     "name": "stdout",
     "output_type": "stream",
     "text": [
      "[[  0   0   0   0   9  91 285  52]\n",
      " [  0   0   0   0   9  91 285 170]\n",
      " [  0   0   0   0   9 308 285 308]\n",
      " [  0   0   0 429 452 385 213 432]\n",
      " [  0   0   0 429 452 385 213 465]\n",
      " [  0   0   0 311   9 318 285 247]\n",
      " [  0   0   0   0 398 390 346 213]]\n"
     ]
    }
   ],
   "source": [
    "## pre padding\n",
    "sent_length = 8\n",
    "embedded_docs = pad_sequences(onehot_rep,padding='pre',maxlen=sent_length)\n",
    "print(embedded_docs)"
   ]
  },
  {
   "cell_type": "code",
   "execution_count": 27,
   "id": "7dc3948b",
   "metadata": {},
   "outputs": [],
   "source": [
    "## 10 feature dimensions\n",
    "dim = 10"
   ]
  },
  {
   "cell_type": "code",
   "execution_count": 29,
   "id": "10304d39",
   "metadata": {},
   "outputs": [
    {
     "name": "stdout",
     "output_type": "stream",
     "text": [
      "WARNING:tensorflow:From C:\\Users\\admin\\AppData\\Roaming\\Python\\Python311\\site-packages\\keras\\src\\backend.py:873: The name tf.get_default_graph is deprecated. Please use tf.compat.v1.get_default_graph instead.\n",
      "\n",
      "WARNING:tensorflow:From C:\\Users\\admin\\AppData\\Roaming\\Python\\Python311\\site-packages\\keras\\src\\optimizers\\__init__.py:309: The name tf.train.Optimizer is deprecated. Please use tf.compat.v1.train.Optimizer instead.\n",
      "\n"
     ]
    }
   ],
   "source": [
    "model = Sequential()\n",
    "model.add(Embedding(voc_size,10,input_length=sent_length))\n",
    "model.compile('adam','mse')"
   ]
  },
  {
   "cell_type": "code",
   "execution_count": 32,
   "id": "bf9347dc",
   "metadata": {},
   "outputs": [
    {
     "name": "stdout",
     "output_type": "stream",
     "text": [
      "Model: \"sequential\"\n",
      "_________________________________________________________________\n",
      " Layer (type)                Output Shape              Param #   \n",
      "=================================================================\n",
      " embedding (Embedding)       (None, 8, 10)             5000      \n",
      "                                                                 \n",
      "=================================================================\n",
      "Total params: 5000 (19.53 KB)\n",
      "Trainable params: 5000 (19.53 KB)\n",
      "Non-trainable params: 0 (0.00 Byte)\n",
      "_________________________________________________________________\n"
     ]
    }
   ],
   "source": [
    "model.summary()"
   ]
  },
  {
   "cell_type": "code",
   "execution_count": 33,
   "id": "ba61451f",
   "metadata": {},
   "outputs": [
    {
     "data": {
      "text/plain": [
       "array([  0,   0,   0,   0,   9,  91, 285,  52])"
      ]
     },
     "execution_count": 33,
     "metadata": {},
     "output_type": "execute_result"
    }
   ],
   "source": [
    "## 'the glass of milk'\n",
    "embedded_docs[0]"
   ]
  },
  {
   "cell_type": "code",
   "execution_count": 34,
   "id": "32ce000f",
   "metadata": {},
   "outputs": [
    {
     "name": "stdout",
     "output_type": "stream",
     "text": [
      "1/1 [==============================] - 0s 84ms/step\n"
     ]
    },
    {
     "data": {
      "text/plain": [
       "array([[-8.3014369e-03,  2.7044203e-02, -1.9349743e-02, -1.5992604e-02,\n",
       "         3.1605843e-02, -5.7291240e-05,  2.1477286e-02, -3.7638210e-02,\n",
       "         2.6229236e-02,  3.9304856e-02],\n",
       "       [-8.3014369e-03,  2.7044203e-02, -1.9349743e-02, -1.5992604e-02,\n",
       "         3.1605843e-02, -5.7291240e-05,  2.1477286e-02, -3.7638210e-02,\n",
       "         2.6229236e-02,  3.9304856e-02],\n",
       "       [-8.3014369e-03,  2.7044203e-02, -1.9349743e-02, -1.5992604e-02,\n",
       "         3.1605843e-02, -5.7291240e-05,  2.1477286e-02, -3.7638210e-02,\n",
       "         2.6229236e-02,  3.9304856e-02],\n",
       "       [-8.3014369e-03,  2.7044203e-02, -1.9349743e-02, -1.5992604e-02,\n",
       "         3.1605843e-02, -5.7291240e-05,  2.1477286e-02, -3.7638210e-02,\n",
       "         2.6229236e-02,  3.9304856e-02],\n",
       "       [-3.9549530e-02,  1.1617161e-02,  2.5027778e-02, -2.4874795e-02,\n",
       "         4.2937126e-02, -1.2492910e-03,  8.6935535e-03,  2.8109420e-02,\n",
       "         8.5973367e-03,  4.8006270e-02],\n",
       "       [-2.2751272e-02,  2.2150468e-02, -3.6828946e-02, -2.3860371e-02,\n",
       "        -4.3935277e-02,  1.5509497e-02,  1.8769648e-02, -2.9447151e-02,\n",
       "        -4.0556263e-02,  8.9664571e-03],\n",
       "       [ 1.6223919e-02, -4.4490028e-02,  3.7270334e-02, -1.6603589e-02,\n",
       "         1.3732765e-02,  4.6602976e-02, -3.0956734e-02, -4.3314349e-02,\n",
       "         1.0384917e-03, -1.1472009e-02],\n",
       "       [-4.4584382e-02, -4.4036008e-02, -3.7078463e-02,  2.7327526e-02,\n",
       "         1.5877534e-02, -1.1155058e-02, -2.1037150e-02, -2.2458613e-02,\n",
       "         2.7289614e-03,  3.6313180e-02]], dtype=float32)"
      ]
     },
     "execution_count": 34,
     "metadata": {},
     "output_type": "execute_result"
    }
   ],
   "source": [
    "model.predict(embedded_docs[0])"
   ]
  },
  {
   "cell_type": "code",
   "execution_count": 35,
   "id": "5b9a7e22",
   "metadata": {},
   "outputs": [
    {
     "name": "stdout",
     "output_type": "stream",
     "text": [
      "1/1 [==============================] - 0s 44ms/step\n",
      "[[[-8.30143690e-03  2.70442031e-02 -1.93497427e-02 -1.59926042e-02\n",
      "    3.16058435e-02 -5.72912395e-05  2.14772858e-02 -3.76382098e-02\n",
      "    2.62292363e-02  3.93048562e-02]\n",
      "  [-8.30143690e-03  2.70442031e-02 -1.93497427e-02 -1.59926042e-02\n",
      "    3.16058435e-02 -5.72912395e-05  2.14772858e-02 -3.76382098e-02\n",
      "    2.62292363e-02  3.93048562e-02]\n",
      "  [-8.30143690e-03  2.70442031e-02 -1.93497427e-02 -1.59926042e-02\n",
      "    3.16058435e-02 -5.72912395e-05  2.14772858e-02 -3.76382098e-02\n",
      "    2.62292363e-02  3.93048562e-02]\n",
      "  [-8.30143690e-03  2.70442031e-02 -1.93497427e-02 -1.59926042e-02\n",
      "    3.16058435e-02 -5.72912395e-05  2.14772858e-02 -3.76382098e-02\n",
      "    2.62292363e-02  3.93048562e-02]\n",
      "  [-3.95495296e-02  1.16171613e-02  2.50277780e-02 -2.48747952e-02\n",
      "    4.29371260e-02 -1.24929100e-03  8.69355351e-03  2.81094201e-02\n",
      "    8.59733671e-03  4.80062701e-02]\n",
      "  [-2.27512717e-02  2.21504681e-02 -3.68289463e-02 -2.38603707e-02\n",
      "   -4.39352766e-02  1.55094974e-02  1.87696479e-02 -2.94471513e-02\n",
      "   -4.05562632e-02  8.96645710e-03]\n",
      "  [ 1.62239186e-02 -4.44900282e-02  3.72703336e-02 -1.66035891e-02\n",
      "    1.37327649e-02  4.66029756e-02 -3.09567340e-02 -4.33143489e-02\n",
      "    1.03849173e-03 -1.14720091e-02]\n",
      "  [-4.45843823e-02 -4.40360084e-02 -3.70784625e-02  2.73275264e-02\n",
      "    1.58775337e-02 -1.11550577e-02 -2.10371502e-02 -2.24586129e-02\n",
      "    2.72896141e-03  3.63131799e-02]]\n",
      "\n",
      " [[-8.30143690e-03  2.70442031e-02 -1.93497427e-02 -1.59926042e-02\n",
      "    3.16058435e-02 -5.72912395e-05  2.14772858e-02 -3.76382098e-02\n",
      "    2.62292363e-02  3.93048562e-02]\n",
      "  [-8.30143690e-03  2.70442031e-02 -1.93497427e-02 -1.59926042e-02\n",
      "    3.16058435e-02 -5.72912395e-05  2.14772858e-02 -3.76382098e-02\n",
      "    2.62292363e-02  3.93048562e-02]\n",
      "  [-8.30143690e-03  2.70442031e-02 -1.93497427e-02 -1.59926042e-02\n",
      "    3.16058435e-02 -5.72912395e-05  2.14772858e-02 -3.76382098e-02\n",
      "    2.62292363e-02  3.93048562e-02]\n",
      "  [-8.30143690e-03  2.70442031e-02 -1.93497427e-02 -1.59926042e-02\n",
      "    3.16058435e-02 -5.72912395e-05  2.14772858e-02 -3.76382098e-02\n",
      "    2.62292363e-02  3.93048562e-02]\n",
      "  [-3.95495296e-02  1.16171613e-02  2.50277780e-02 -2.48747952e-02\n",
      "    4.29371260e-02 -1.24929100e-03  8.69355351e-03  2.81094201e-02\n",
      "    8.59733671e-03  4.80062701e-02]\n",
      "  [-2.27512717e-02  2.21504681e-02 -3.68289463e-02 -2.38603707e-02\n",
      "   -4.39352766e-02  1.55094974e-02  1.87696479e-02 -2.94471513e-02\n",
      "   -4.05562632e-02  8.96645710e-03]\n",
      "  [ 1.62239186e-02 -4.44900282e-02  3.72703336e-02 -1.66035891e-02\n",
      "    1.37327649e-02  4.66029756e-02 -3.09567340e-02 -4.33143489e-02\n",
      "    1.03849173e-03 -1.14720091e-02]\n",
      "  [-6.24036789e-03  3.38095091e-02 -3.36474068e-02 -3.60246412e-02\n",
      "    2.95966603e-02 -1.85132138e-02 -3.86555083e-02 -1.97906736e-02\n",
      "   -5.72457165e-03  1.32030584e-02]]\n",
      "\n",
      " [[-8.30143690e-03  2.70442031e-02 -1.93497427e-02 -1.59926042e-02\n",
      "    3.16058435e-02 -5.72912395e-05  2.14772858e-02 -3.76382098e-02\n",
      "    2.62292363e-02  3.93048562e-02]\n",
      "  [-8.30143690e-03  2.70442031e-02 -1.93497427e-02 -1.59926042e-02\n",
      "    3.16058435e-02 -5.72912395e-05  2.14772858e-02 -3.76382098e-02\n",
      "    2.62292363e-02  3.93048562e-02]\n",
      "  [-8.30143690e-03  2.70442031e-02 -1.93497427e-02 -1.59926042e-02\n",
      "    3.16058435e-02 -5.72912395e-05  2.14772858e-02 -3.76382098e-02\n",
      "    2.62292363e-02  3.93048562e-02]\n",
      "  [-8.30143690e-03  2.70442031e-02 -1.93497427e-02 -1.59926042e-02\n",
      "    3.16058435e-02 -5.72912395e-05  2.14772858e-02 -3.76382098e-02\n",
      "    2.62292363e-02  3.93048562e-02]\n",
      "  [-3.95495296e-02  1.16171613e-02  2.50277780e-02 -2.48747952e-02\n",
      "    4.29371260e-02 -1.24929100e-03  8.69355351e-03  2.81094201e-02\n",
      "    8.59733671e-03  4.80062701e-02]\n",
      "  [-3.71038914e-02  2.62290575e-02  3.59057449e-02  1.83128752e-02\n",
      "   -9.98787954e-03 -2.66172737e-03  2.55924352e-02  3.45769636e-02\n",
      "    1.02009997e-02 -4.91878055e-02]\n",
      "  [ 1.62239186e-02 -4.44900282e-02  3.72703336e-02 -1.66035891e-02\n",
      "    1.37327649e-02  4.66029756e-02 -3.09567340e-02 -4.33143489e-02\n",
      "    1.03849173e-03 -1.14720091e-02]\n",
      "  [-3.71038914e-02  2.62290575e-02  3.59057449e-02  1.83128752e-02\n",
      "   -9.98787954e-03 -2.66172737e-03  2.55924352e-02  3.45769636e-02\n",
      "    1.02009997e-02 -4.91878055e-02]]\n",
      "\n",
      " [[-8.30143690e-03  2.70442031e-02 -1.93497427e-02 -1.59926042e-02\n",
      "    3.16058435e-02 -5.72912395e-05  2.14772858e-02 -3.76382098e-02\n",
      "    2.62292363e-02  3.93048562e-02]\n",
      "  [-8.30143690e-03  2.70442031e-02 -1.93497427e-02 -1.59926042e-02\n",
      "    3.16058435e-02 -5.72912395e-05  2.14772858e-02 -3.76382098e-02\n",
      "    2.62292363e-02  3.93048562e-02]\n",
      "  [-8.30143690e-03  2.70442031e-02 -1.93497427e-02 -1.59926042e-02\n",
      "    3.16058435e-02 -5.72912395e-05  2.14772858e-02 -3.76382098e-02\n",
      "    2.62292363e-02  3.93048562e-02]\n",
      "  [ 1.13388151e-03  4.84365709e-02 -3.64496484e-02 -7.72126764e-03\n",
      "    4.61170189e-02  4.50039245e-02 -1.37534030e-02  2.22864039e-02\n",
      "   -3.48897576e-02  2.94353478e-02]\n",
      "  [-5.12015820e-03  3.00647952e-02  6.10325485e-03  1.46678425e-02\n",
      "    9.69187170e-03  3.65977772e-02 -4.13285606e-02 -4.35329340e-02\n",
      "    3.24990600e-03 -4.41761389e-02]\n",
      "  [-3.36544514e-02  4.04167436e-02  1.47637762e-02 -4.12879214e-02\n",
      "   -2.80183088e-02  4.66865562e-02  2.24085934e-02 -4.64063771e-02\n",
      "    1.24890730e-03 -3.77307422e-02]\n",
      "  [-4.26998995e-02 -3.27004083e-02 -3.16476710e-02  4.11032513e-03\n",
      "   -2.90550590e-02 -4.69415896e-02 -2.84003373e-02 -3.02960165e-02\n",
      "    1.16445422e-02  4.04498093e-02]\n",
      "  [-1.85783878e-02 -1.70966499e-02  4.40379046e-02 -3.18990238e-02\n",
      "   -4.09406535e-02 -1.29616261e-02 -1.86523907e-02 -1.64386407e-02\n",
      "   -1.80472136e-02  3.71373817e-03]]\n",
      "\n",
      " [[-8.30143690e-03  2.70442031e-02 -1.93497427e-02 -1.59926042e-02\n",
      "    3.16058435e-02 -5.72912395e-05  2.14772858e-02 -3.76382098e-02\n",
      "    2.62292363e-02  3.93048562e-02]\n",
      "  [-8.30143690e-03  2.70442031e-02 -1.93497427e-02 -1.59926042e-02\n",
      "    3.16058435e-02 -5.72912395e-05  2.14772858e-02 -3.76382098e-02\n",
      "    2.62292363e-02  3.93048562e-02]\n",
      "  [-8.30143690e-03  2.70442031e-02 -1.93497427e-02 -1.59926042e-02\n",
      "    3.16058435e-02 -5.72912395e-05  2.14772858e-02 -3.76382098e-02\n",
      "    2.62292363e-02  3.93048562e-02]\n",
      "  [ 1.13388151e-03  4.84365709e-02 -3.64496484e-02 -7.72126764e-03\n",
      "    4.61170189e-02  4.50039245e-02 -1.37534030e-02  2.22864039e-02\n",
      "   -3.48897576e-02  2.94353478e-02]\n",
      "  [-5.12015820e-03  3.00647952e-02  6.10325485e-03  1.46678425e-02\n",
      "    9.69187170e-03  3.65977772e-02 -4.13285606e-02 -4.35329340e-02\n",
      "    3.24990600e-03 -4.41761389e-02]\n",
      "  [-3.36544514e-02  4.04167436e-02  1.47637762e-02 -4.12879214e-02\n",
      "   -2.80183088e-02  4.66865562e-02  2.24085934e-02 -4.64063771e-02\n",
      "    1.24890730e-03 -3.77307422e-02]\n",
      "  [-4.26998995e-02 -3.27004083e-02 -3.16476710e-02  4.11032513e-03\n",
      "   -2.90550590e-02 -4.69415896e-02 -2.84003373e-02 -3.02960165e-02\n",
      "    1.16445422e-02  4.04498093e-02]\n",
      "  [ 3.67313065e-02  1.19191408e-03 -1.08672865e-02 -6.34142011e-03\n",
      "    3.60951759e-02 -4.49860096e-03  2.96253003e-02 -4.99246269e-03\n",
      "    2.99314521e-02 -1.70833841e-02]]\n",
      "\n",
      " [[-8.30143690e-03  2.70442031e-02 -1.93497427e-02 -1.59926042e-02\n",
      "    3.16058435e-02 -5.72912395e-05  2.14772858e-02 -3.76382098e-02\n",
      "    2.62292363e-02  3.93048562e-02]\n",
      "  [-8.30143690e-03  2.70442031e-02 -1.93497427e-02 -1.59926042e-02\n",
      "    3.16058435e-02 -5.72912395e-05  2.14772858e-02 -3.76382098e-02\n",
      "    2.62292363e-02  3.93048562e-02]\n",
      "  [-8.30143690e-03  2.70442031e-02 -1.93497427e-02 -1.59926042e-02\n",
      "    3.16058435e-02 -5.72912395e-05  2.14772858e-02 -3.76382098e-02\n",
      "    2.62292363e-02  3.93048562e-02]\n",
      "  [-6.04043156e-03 -2.40070745e-03 -3.83527167e-02  4.73046564e-02\n",
      "   -2.81340834e-02  3.03768255e-02  3.20605189e-03  2.95540430e-02\n",
      "    2.64931209e-02 -9.41026211e-03]\n",
      "  [-3.95495296e-02  1.16171613e-02  2.50277780e-02 -2.48747952e-02\n",
      "    4.29371260e-02 -1.24929100e-03  8.69355351e-03  2.81094201e-02\n",
      "    8.59733671e-03  4.80062701e-02]\n",
      "  [-1.17896087e-02  4.69254516e-02 -1.81610212e-02 -3.55182774e-02\n",
      "   -3.72374542e-02 -3.69685516e-02  7.41188601e-03 -1.34928338e-02\n",
      "    2.08387114e-02  4.50976603e-02]\n",
      "  [ 1.62239186e-02 -4.44900282e-02  3.72703336e-02 -1.66035891e-02\n",
      "    1.37327649e-02  4.66029756e-02 -3.09567340e-02 -4.33143489e-02\n",
      "    1.03849173e-03 -1.14720091e-02]\n",
      "  [-1.83692351e-02 -7.82333314e-04 -1.18453726e-02  3.98236848e-02\n",
      "    4.74070944e-02  2.49938630e-02  1.31490082e-03  3.71408351e-02\n",
      "    2.40543149e-02  1.35518648e-02]]\n",
      "\n",
      " [[-8.30143690e-03  2.70442031e-02 -1.93497427e-02 -1.59926042e-02\n",
      "    3.16058435e-02 -5.72912395e-05  2.14772858e-02 -3.76382098e-02\n",
      "    2.62292363e-02  3.93048562e-02]\n",
      "  [-8.30143690e-03  2.70442031e-02 -1.93497427e-02 -1.59926042e-02\n",
      "    3.16058435e-02 -5.72912395e-05  2.14772858e-02 -3.76382098e-02\n",
      "    2.62292363e-02  3.93048562e-02]\n",
      "  [-8.30143690e-03  2.70442031e-02 -1.93497427e-02 -1.59926042e-02\n",
      "    3.16058435e-02 -5.72912395e-05  2.14772858e-02 -3.76382098e-02\n",
      "    2.62292363e-02  3.93048562e-02]\n",
      "  [-8.30143690e-03  2.70442031e-02 -1.93497427e-02 -1.59926042e-02\n",
      "    3.16058435e-02 -5.72912395e-05  2.14772858e-02 -3.76382098e-02\n",
      "    2.62292363e-02  3.93048562e-02]\n",
      "  [ 1.84087642e-02  1.24710575e-02  6.63176179e-05 -2.12706812e-02\n",
      "    4.54795361e-03 -2.81042345e-02  9.78584215e-03  4.74588312e-02\n",
      "    4.46008332e-02 -1.96933504e-02]\n",
      "  [-4.41700816e-02  3.43053229e-02 -4.83552814e-02 -2.21875068e-02\n",
      "   -2.68372055e-02  2.40842961e-02  3.12124006e-02  8.76840204e-03\n",
      "    3.07019837e-02  2.65242495e-02]\n",
      "  [ 2.28470676e-02  3.75514366e-02 -1.46319717e-03  1.62024982e-02\n",
      "   -4.12937254e-03  2.93822177e-02 -3.75281461e-02  4.01689149e-02\n",
      "    2.54557990e-02  2.40514390e-02]\n",
      "  [-4.26998995e-02 -3.27004083e-02 -3.16476710e-02  4.11032513e-03\n",
      "   -2.90550590e-02 -4.69415896e-02 -2.84003373e-02 -3.02960165e-02\n",
      "    1.16445422e-02  4.04498093e-02]]]\n"
     ]
    }
   ],
   "source": [
    "print(model.predict(embedded_docs))"
   ]
  },
  {
   "cell_type": "code",
   "execution_count": 36,
   "id": "2381b30e",
   "metadata": {},
   "outputs": [
    {
     "data": {
      "text/plain": [
       "array([  0,   0,   0,   0,   9,  91, 285,  52])"
      ]
     },
     "execution_count": 36,
     "metadata": {},
     "output_type": "execute_result"
    }
   ],
   "source": [
    "embedded_docs[0]"
   ]
  },
  {
   "cell_type": "code",
   "execution_count": null,
   "id": "a5783e13",
   "metadata": {},
   "outputs": [],
   "source": [
    "### Assignment\n",
    "\n",
    "sent=[\"The world is a better place\",\n",
    "      \"Marvel series is my favourite movie\",\n",
    "      \"I like DC movies\",\n",
    "      \"the cat is eating the food\",\n",
    "      \"Tom and Jerry is my favourite movie\",\n",
    "      \"Python is my favourite programming language\"\n",
    "      ]"
   ]
  },
  {
   "cell_type": "code",
   "execution_count": null,
   "id": "7557d252",
   "metadata": {},
   "outputs": [],
   "source": []
  }
 ],
 "metadata": {
  "kernelspec": {
   "display_name": "Python 3 (ipykernel)",
   "language": "python",
   "name": "python3"
  },
  "language_info": {
   "codemirror_mode": {
    "name": "ipython",
    "version": 3
   },
   "file_extension": ".py",
   "mimetype": "text/x-python",
   "name": "python",
   "nbconvert_exporter": "python",
   "pygments_lexer": "ipython3",
   "version": "3.11.4"
  }
 },
 "nbformat": 4,
 "nbformat_minor": 5
}
